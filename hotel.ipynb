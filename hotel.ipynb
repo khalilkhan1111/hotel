{
  "nbformat": 4,
  "nbformat_minor": 0,
  "metadata": {
    "colab": {
      "provenance": [],
      "authorship_tag": "ABX9TyOHG8jrM92qCiSwxBUBjJwx",
      "include_colab_link": true
    },
    "kernelspec": {
      "name": "python3",
      "display_name": "Python 3"
    },
    "language_info": {
      "name": "python"
    }
  },
  "cells": [
    {
      "cell_type": "markdown",
      "metadata": {
        "id": "view-in-github",
        "colab_type": "text"
      },
      "source": [
        "<a href=\"https://colab.research.google.com/github/khalilkhan1111/hotel/blob/main/hotel.ipynb\" target=\"_parent\"><img src=\"https://colab.research.google.com/assets/colab-badge.svg\" alt=\"Open In Colab\"/></a>"
      ]
    },
    {
      "cell_type": "markdown",
      "source": [
        "# Libraries\n"
      ],
      "metadata": {
        "id": "V--1cVNN8H8r"
      }
    },
    {
      "cell_type": "code",
      "execution_count": 24,
      "metadata": {
        "id": "07m0jCzrAcZ-"
      },
      "outputs": [],
      "source": [
        "import numpy as np\n",
        "import pandas as pd\n",
        "import matplotlib.pyplot as plt\n",
        "# Set maximum columns to be display in datafram as 36\n",
        "pd.set_option(\"display.max_columns\", 36)\n",
        "plt.style.use('seaborn')\n",
        "\n",
        "# Setting fontsizes,fontweight,label weight for lebels,titles.\n",
        "plt.rcParams[\"font.weight\"] = \"bold\"\n",
        "plt.rcParams[\"axes.labelweight\"] = \"bold\"\n",
        "plt.rcParams[\"axes.titlesize\"] = 27\n",
        "plt.rcParams[\"axes.titleweight\"] = 'bold'\n",
        "plt.rcParams['xtick.labelsize']=17\n",
        "plt.rcParams['ytick.labelsize']=17\n",
        "plt.rcParams[\"axes.labelsize\"] = 22\n",
        "plt.rcParams[\"legend.fontsize\"] = 17\n",
        "plt.rcParams[\"legend.title_fontsize\"] = 17\n"
      ]
    },
    {
      "cell_type": "markdown",
      "source": [
        "# File Path"
      ],
      "metadata": {
        "id": "gw3tBHGX9hFZ"
      }
    },
    {
      "cell_type": "code",
      "source": [
        "from google.colab import drive  \n",
        "drive.mount('drive')\n",
        "file_path = \"/content/drive/MyDrive/imp/project/Hotel.csv\""
      ],
      "metadata": {
        "colab": {
          "base_uri": "https://localhost:8080/"
        },
        "id": "EBa5eT9i9ql-",
        "outputId": "0931ab4e-8bf4-4966-8d01-49999d4bfe79"
      },
      "execution_count": 26,
      "outputs": [
        {
          "output_type": "stream",
          "name": "stdout",
          "text": [
            "Drive already mounted at drive; to attempt to forcibly remount, call drive.mount(\"drive\", force_remount=True).\n"
          ]
        }
      ]
    },
    {
      "cell_type": "markdown",
      "source": [
        "# Read Data"
      ],
      "metadata": {
        "id": "JpY33PMmBNsN"
      }
    },
    {
      "cell_type": "code",
      "source": [
        "df= pd.read_csv(file_path)"
      ],
      "metadata": {
        "id": "7mbA0vQ5BRt6"
      },
      "execution_count": 27,
      "outputs": []
    },
    {
      "cell_type": "code",
      "source": [],
      "metadata": {
        "id": "rzPMJC1cBPoY"
      },
      "execution_count": null,
      "outputs": []
    }
  ]
}